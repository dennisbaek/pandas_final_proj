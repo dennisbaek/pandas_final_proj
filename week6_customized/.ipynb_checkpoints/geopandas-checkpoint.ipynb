{
 "cells": [
  {
   "cell_type": "markdown",
   "metadata": {},
   "source": [
    "## folium\n",
    "[https://folium.readthedocs.org/en/latest/](https://folium.readthedocs.org/en/latest/)"
   ]
  },
  {
   "cell_type": "code",
   "execution_count": null,
   "metadata": {
    "collapsed": false
   },
   "outputs": [],
   "source": [
    "%pylab inline\n",
    "\n",
    "import pandas as pd\n",
    "import numpy as np\n",
    "import folium\n",
    "from IPython.display import HTML\n",
    "\n",
    "def inline_map(map):\n",
    "    \"\"\"\n",
    "    Embeds the HTML source of the map directly into the IPython notebook.\n",
    "    \n",
    "    This method will not work if the map depends on any files (json data). Also this uses\n",
    "    the HTML5 srcdoc attribute, which may not be supported in all browsers.\n",
    "    \"\"\"\n",
    "    map._build_map()\n",
    "    return HTML('<iframe srcdoc=\"{srcdoc}\" style=\"width: 100%; height: 510px; border: none\"></iframe>'.format(srcdoc=map.HTML.replace('\"', '&quot;')))\n",
    "\n",
    "def embed_map(map, path=\"map.html\"):\n",
    "    \"\"\"\n",
    "    Embeds a linked iframe to the map into the IPython notebook.\n",
    "    \n",
    "    Note: this method will not capture the source of the map into the notebook.\n",
    "    This method should work for all maps (as long as they use relative urls).\n",
    "    \"\"\"\n",
    "    map.create_map(path=path)\n",
    "    return HTML('<iframe src=\"files/{path}\" style=\"width: 100%; height: 510px; border: none\"></iframe>'.format(path=path))"
   ]
  },
  {
   "cell_type": "code",
   "execution_count": null,
   "metadata": {
    "collapsed": false
   },
   "outputs": [],
   "source": [
    "df = pd.read_csv('starbucks.csv')"
   ]
  },
  {
   "cell_type": "code",
   "execution_count": null,
   "metadata": {
    "collapsed": false
   },
   "outputs": [],
   "source": [
    "tileset = 'http://{s}.basemaps.cartocdn.com/light_nolabels/{z}/{x}/{y}.png'\n",
    "#tileset = 'http://{s}.basemaps.cartocdn.com/dark_nolabels/{z}/{x}/{y}.png'\n",
    "#tileset=\"http://{s}.tile.stamen.com/watercolor/{z}/{x}/{y}.jpg\"\n",
    "map_osm = folium.Map(location=[37.5491,126.98955], tiles=tileset, zoom_start=13, attr='cartocdn')\n",
    "#map_osm = folium.Map(location=[37.5491,126.98955], zoom_start=13)\n",
    "\n",
    "for idx, p in df.iterrows():\n",
    "    p.coord = p.coord.replace('[', '')\n",
    "    p.coord = p.coord.replace(']', '')\n",
    "    lat, lng = p.coord.split(',')\n",
    "    map_osm.circle_marker(location=(lat, lng), radius=50,\n",
    "                  popup='My Popup Info', line_color='#d92015',\n",
    "                  fill_color='#d92015', fill_opacity=1)\n",
    "    \n",
    "embed_map(map_osm)"
   ]
  },
  {
   "cell_type": "code",
   "execution_count": null,
   "metadata": {
    "collapsed": false,
    "scrolled": false
   },
   "outputs": [],
   "source": [
    "def marker_map(df, tileset=None, zoom=13, cluster=False):\n",
    "    if not tileset:\n",
    "        tileset = 'http://{s}.basemaps.cartocdn.com/light_nolabels/{z}/{x}/{y}.png'\n",
    "    \n",
    "    map_osm = folium.Map(location=[37.5491,126.98955], tiles=tileset, zoom_start=zoom, attr='cartocdn')\n",
    "\n",
    "    for idx, p in df.iterrows():\n",
    "        p.coord = p.coord.replace('[', '')\n",
    "        p.coord = p.coord.replace(']', '')\n",
    "        lat, lng = p.coord.split(',')\n",
    "        map_osm.simple_marker(location=(lat, lng), popup=p['name'], clustered_marker=cluster)\n",
    "    return map_osm\n",
    "\n",
    "\n",
    "s = pd.read_csv('starbucks.csv')\n",
    "e = pd.read_csv('ediya.csv')\n",
    "c = pd.read_csv('caffebene.csv')\n",
    "a = pd.read_csv('angelinus.csv')\n",
    "df = pd.concat([s, e, c, a])\n",
    "\n",
    "tileset = \"http://{s}.tile.stamen.com/watercolor/{z}/{x}/{y}.jpg\"\n",
    "# -0-  cluster 인자(True/False)를 사용해봅니다.\n",
    "embed_map(marker_map(df, tileset=tileset, zoom=9, cluster=False))"
   ]
  },
  {
   "cell_type": "code",
   "execution_count": null,
   "metadata": {
    "collapsed": false
   },
   "outputs": [],
   "source": [
    "import pyproj\n",
    "WGS84 = pyproj.Proj(proj='latlong', datum='WGS84', ellps='WGS84')\n",
    "TM128 = pyproj.Proj(proj='tmerc', lat_0='38N', lon_0='128E', ellps='bessel', x_0='400000', y_0='600000', k='0.9999', towgs84='-146.43,507.89,681.46')\n",
    "GRS80 = pyproj.Proj(proj='tmerc', lat_0='38N', lon_0='127.5E', k='0.9996', x_0='1000000', y_0='2000000', ellps='GRS80', units='m')\n",
    "TM127 = pyproj.Proj(proj='tmerc', lat_0='38N', lon_0='127.0028902777777777776E', ellps='bessel', x_0='200000', y_0='500000', k='1.0', towgs84='-146.43,507.89,681.46')\n",
    "\n",
    "def wgs84_to_tm128(longitude, latitude):\n",
    "    lon, lat = pyproj.transform(WGS84, TM128, longitude, latitude )\n",
    "    return lat, lon\n",
    "\n",
    "def wgs84_to_tm127(longitude, latitude):\n",
    "    lon, lat = map(lambda x:2.5*x,\n",
    "        pyproj.transform(WGS84, TM127, longitude, latitude ))\n",
    "    return lat, lon\n",
    "\n",
    "def tm127_to_wgs84(x, y):\n",
    "    lon, lat = pyproj.transform(TM127, WGS84, x/2.5, y/2.5 )\n",
    "    return lat, lon\n",
    "\n",
    "# UTM-K\n",
    "def grs80_to_wgs84(x, y):\n",
    "    lon, lat = pyproj.transform(GRS80, WGS84, x, y )\n",
    "    return lat, lon\n",
    "\n",
    "# Naver (카텍)\n",
    "def tm128_to_wgs84(x, y):\n",
    "    lon, lat = pyproj.transform(TM128, WGS84, x, y)\n",
    "    return lat, lon\n"
   ]
  },
  {
   "cell_type": "markdown",
   "metadata": {},
   "source": [
    "## geopandas\n",
    "[http://geopandas.org/](http://geopandas.org/)\n",
    "\n",
    "### 설치\n",
    "기본적인 가이드는 아래 링크를 참조합니다.\n",
    "http://geoffboeing.com/2014/09/using-geopandas-windows/\n",
    "\n",
    "위 가이드에서는 다음과 같은 순서로 설치할 것을 권장합니다.\n",
    "먼저 아래 링크에서 pyproj, GDAL, Fiona, Shapely 패키지를 찾아서 다운 받습니다.\n",
    "http://www.lfd.uci.edu/~gohlke/pythonlibs/\n",
    "\n",
    "패키지 파일 이름은 패키지명-cp파이썬버전-os_bit.whl\n",
    "ex) pyproj‑1.9.4‑cp34‑none‑win_amd64.whl\n",
    "파이썬 버전은 IPython이나 IPython notebook에서 (왜냐하면 IPython에서 사용할거니까요)\n",
    "\n",
    "```\n",
    "import sys\n",
    "sys.version\n",
    "```\n",
    "을 실행해서 확인합니다.\n",
    "\n",
    "위 4가지 패키지 (.whl 파일)를 적절한 곳에 다운로드 받은 다음 cmd (명령행 프롬프트)를 이용해서 전체 파일이름을 주어 설치합니다.\n",
    "\n",
    "```\n",
    "C:\\> dir 다운받은경로\n",
    "pip install pyproj‑1.9.4‑cp34‑none‑win_amd64.whl\n",
    "```\n",
    "같은 방식으로 GDAL, Fiona, Shapely를 순서대로 설치합니다.\n",
    "\n",
    "모두 설치가 성공적으로 끝나면 pip install geopandas를 실행해서 geopandas를 설치합니다.\n",
    "\n",
    "제대로 설치되었는지 확인은:\n",
    "```\n",
    "import geopandas as gp\n",
    "gp.version.version\n",
    "```\n",
    "을 실행해서 설치된 버전이 제대로 출력되면 성공입니다.\n",
    "\n",
    "\n",
    "http://www.gisdeveloper.co.kr/entry/%EC%B5%9C%EC%8B%A0%EC%8B%A0-%ED%96%89%EC%A0%95%EA%B5%AC%EC%97%AD%EB%8F%84-%EB%8B%A4%EC%9A%B4%EB%A1%9C%EB%93%9C"
   ]
  },
  {
   "cell_type": "code",
   "execution_count": null,
   "metadata": {
    "collapsed": false,
    "scrolled": true
   },
   "outputs": [],
   "source": [
    "import geopandas as gp\n",
    "gdf = gp.GeoDataFrame.from_file('kor_shp.shp', encoding='euc-kr')"
   ]
  },
  {
   "cell_type": "code",
   "execution_count": null,
   "metadata": {
    "collapsed": false
   },
   "outputs": [],
   "source": [
    "gdf.head()"
   ]
  },
  {
   "cell_type": "code",
   "execution_count": null,
   "metadata": {
    "collapsed": false
   },
   "outputs": [],
   "source": [
    "gn = gdf[gdf['SIG_KOR_NM'] == '강남구'].geometry\n",
    "#type(gn.iloc[0])\n",
    "#list(gn.iloc[0].exterior.coords)\n",
    "gn_polygons = [grs80_to_wgs84(x, y) for x, y in gn.iloc[0].exterior.coords]"
   ]
  },
  {
   "cell_type": "code",
   "execution_count": null,
   "metadata": {
    "collapsed": false
   },
   "outputs": [],
   "source": [
    "gn.iloc[0].exterior"
   ]
  },
  {
   "cell_type": "code",
   "execution_count": null,
   "metadata": {
    "collapsed": false,
    "scrolled": false
   },
   "outputs": [],
   "source": [
    "gw = gdf[gdf['SIG_KOR_NM'] == '관악구'].geometry\n",
    "gw_polygons = [grs80_to_wgs84(x, y) for x, y in gw.iloc[0].exterior.coords]\n",
    "tileset = 'http://{s}.basemaps.cartocdn.com/light_nolabels/{z}/{x}/{y}.png'\n",
    "\n",
    "map_osm = folium.Map(location=[37.5491,126.98955], tiles=tileset, zoom_start=11, attr='cartocdn')\n",
    "map_osm.line(locations=gn_polygons)\n",
    "map_osm.line(locations=gw_polygons)\n",
    "\n",
    "embed_map(map_osm)"
   ]
  },
  {
   "cell_type": "code",
   "execution_count": null,
   "metadata": {
    "collapsed": true
   },
   "outputs": [],
   "source": []
  },
  {
   "cell_type": "code",
   "execution_count": null,
   "metadata": {
    "collapsed": true
   },
   "outputs": [],
   "source": []
  }
 ],
 "metadata": {
  "kernelspec": {
   "display_name": "Python 3",
   "language": "python",
   "name": "python3"
  },
  "language_info": {
   "codemirror_mode": {
    "name": "ipython",
    "version": 3
   },
   "file_extension": ".py",
   "mimetype": "text/x-python",
   "name": "python",
   "nbconvert_exporter": "python",
   "pygments_lexer": "ipython3",
   "version": "3.4.4"
  }
 },
 "nbformat": 4,
 "nbformat_minor": 0
}
