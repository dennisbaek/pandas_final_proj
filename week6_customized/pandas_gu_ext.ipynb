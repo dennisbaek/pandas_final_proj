{
 "cells": [
  {
   "cell_type": "markdown",
   "metadata": {},
   "source": [
    "## folium\n",
    "[https://folium.readthedocs.org/en/latest/](https://folium.readthedocs.org/en/latest/)"
   ]
  },
  {
   "cell_type": "code",
   "execution_count": 1,
   "metadata": {
    "collapsed": false
   },
   "outputs": [
    {
     "name": "stdout",
     "output_type": "stream",
     "text": [
      "Populating the interactive namespace from numpy and matplotlib\n"
     ]
    }
   ],
   "source": [
    "%pylab inline\n",
    "\n",
    "import pandas as pd\n",
    "import numpy as np\n",
    "import folium\n",
    "from IPython.display import HTML\n",
    "\n",
    "def inline_map(map):\n",
    "    \"\"\"\n",
    "    Embeds the HTML source of the map directly into the IPython notebook.\n",
    "    \n",
    "    This method will not work if the map depends on any files (json data). Also this uses\n",
    "    the HTML5 srcdoc attribute, which may not be supported in all browsers.\n",
    "    \"\"\"\n",
    "    map._build_map()\n",
    "    return HTML('<iframe srcdoc=\"{srcdoc}\" style=\"width: 100%; height: 510px; border: none\"></iframe>'.format(srcdoc=map.HTML.replace('\"', '&quot;')))\n",
    "\n",
    "def embed_map(map, path=\"map.html\"):\n",
    "    \"\"\"\n",
    "    Embeds a linked iframe to the map into the IPython notebook.\n",
    "    \n",
    "    Note: this method will not capture the source of the map into the notebook.\n",
    "    This method should work for all maps (as long as they use relative urls).\n",
    "    \"\"\"\n",
    "    map.create_map(path=path)\n",
    "    return HTML('<iframe src=\"files/{path}\" style=\"width: 100%; height: 510px; border: none\"></iframe>'.format(path=path))"
   ]
  },
  {
   "cell_type": "code",
   "execution_count": 2,
   "metadata": {
    "collapsed": false
   },
   "outputs": [],
   "source": [
    "import pyproj\n",
    "WGS84 = pyproj.Proj(proj='latlong', datum='WGS84', ellps='WGS84')\n",
    "TM128 = pyproj.Proj(proj='tmerc', lat_0='38N', lon_0='128E', ellps='bessel', x_0='400000', y_0='600000', k='0.9999', towgs84='-146.43,507.89,681.46')\n",
    "GRS80 = pyproj.Proj(proj='tmerc', lat_0='38N', lon_0='127.5E', k='0.9996', x_0='1000000', y_0='2000000', ellps='GRS80', units='m')\n",
    "TM127 = pyproj.Proj(proj='tmerc', lat_0='38N', lon_0='127.0028902777777777776E', ellps='bessel', x_0='200000', y_0='500000', k='1.0', towgs84='-146.43,507.89,681.46')\n",
    "\n",
    "def wgs84_to_tm128(longitude, latitude):\n",
    "    lon, lat = pyproj.transform(WGS84, TM128, longitude, latitude )\n",
    "    return lat, lon\n",
    "\n",
    "def wgs84_to_tm127(longitude, latitude):\n",
    "    lon, lat = map(lambda x:2.5*x,\n",
    "        pyproj.transform(WGS84, TM127, longitude, latitude ))\n",
    "    return lat, lon\n",
    "\n",
    "def tm127_to_wgs84(x, y):\n",
    "    lon, lat = pyproj.transform(TM127, WGS84, x/2.5, y/2.5 )\n",
    "    return lat, lon\n",
    "\n",
    "# UTM-K\n",
    "def grs80_to_wgs84(x, y):\n",
    "    lon, lat = pyproj.transform(GRS80, WGS84, x, y )\n",
    "    return lat, lon\n",
    "\n",
    "# Naver (카텍)\n",
    "def tm128_to_wgs84(x, y):\n",
    "    lon, lat = pyproj.transform(TM128, WGS84, x, y)\n",
    "    return lat, lon\n"
   ]
  },
  {
   "cell_type": "code",
   "execution_count": 3,
   "metadata": {
    "collapsed": false,
    "scrolled": true
   },
   "outputs": [],
   "source": [
    "import geopandas as gp\n",
    "gdf = gp.GeoDataFrame.from_file('kor_shp.shp', encoding='euc-kr')"
   ]
  },
  {
   "cell_type": "code",
   "execution_count": 4,
   "metadata": {
    "collapsed": false,
    "scrolled": true
   },
   "outputs": [
    {
     "data": {
      "text/html": [
       "<div>\n",
       "<table border=\"1\" class=\"dataframe\">\n",
       "  <thead>\n",
       "    <tr style=\"text-align: right;\">\n",
       "      <th></th>\n",
       "      <th>SIG_CD</th>\n",
       "      <th>SIG_KOR_NM</th>\n",
       "      <th>geometry</th>\n",
       "    </tr>\n",
       "  </thead>\n",
       "  <tbody>\n",
       "    <tr>\n",
       "      <th>0</th>\n",
       "      <td>42150</td>\n",
       "      <td>강릉시</td>\n",
       "      <td>(POLYGON ((1136545.803493503 1962251.161124158...</td>\n",
       "    </tr>\n",
       "    <tr>\n",
       "      <th>1</th>\n",
       "      <td>42170</td>\n",
       "      <td>동해시</td>\n",
       "      <td>POLYGON ((1139403.867164297 1956878.265323564,...</td>\n",
       "    </tr>\n",
       "    <tr>\n",
       "      <th>2</th>\n",
       "      <td>42820</td>\n",
       "      <td>고성군</td>\n",
       "      <td>(POLYGON ((1091705.056122308 2034023.202820232...</td>\n",
       "    </tr>\n",
       "    <tr>\n",
       "      <th>3</th>\n",
       "      <td>42720</td>\n",
       "      <td>홍천군</td>\n",
       "      <td>POLYGON ((1046324.014620971 1994003.079201841,...</td>\n",
       "    </tr>\n",
       "    <tr>\n",
       "      <th>4</th>\n",
       "      <td>42110</td>\n",
       "      <td>춘천시</td>\n",
       "      <td>POLYGON ((1007462.095373648 2008948.792123738,...</td>\n",
       "    </tr>\n",
       "  </tbody>\n",
       "</table>\n",
       "</div>"
      ],
      "text/plain": [
       "  SIG_CD SIG_KOR_NM                                           geometry\n",
       "0  42150        강릉시  (POLYGON ((1136545.803493503 1962251.161124158...\n",
       "1  42170        동해시  POLYGON ((1139403.867164297 1956878.265323564,...\n",
       "2  42820        고성군  (POLYGON ((1091705.056122308 2034023.202820232...\n",
       "3  42720        홍천군  POLYGON ((1046324.014620971 1994003.079201841,...\n",
       "4  42110        춘천시  POLYGON ((1007462.095373648 2008948.792123738,..."
      ]
     },
     "execution_count": 4,
     "metadata": {},
     "output_type": "execute_result"
    }
   ],
   "source": [
    "gdf.head()"
   ]
  },
  {
   "cell_type": "code",
   "execution_count": 5,
   "metadata": {
    "collapsed": true
   },
   "outputs": [],
   "source": [
    "seoul_gu_list =['강남구', '강동구', '강북구', '강서구', '관악구', '광진구',\n",
    "'구로구', '금천구', '노원구', '도봉구', '동대문구', '동작구', '마포구', '서대문구',\n",
    "'서초구', '성동구', '성북구', '송파구', '양천구', '영등포구', '용산구', '은평구',\n",
    "'종로구', '중구', '중랑구']\n"
   ]
  },
  {
   "cell_type": "code",
   "execution_count": 6,
   "metadata": {
    "collapsed": false
   },
   "outputs": [
    {
     "name": "stdout",
     "output_type": "stream",
     "text": [
      "강남구 is done\n",
      "강동구 is done\n",
      "강북구 is done\n",
      "관악구 is done\n",
      "광진구 is done\n",
      "구로구 is done\n",
      "금천구 is done\n",
      "노원구 is done\n",
      "도봉구 is done\n",
      "동대문구 is done\n",
      "동작구 is done\n",
      "마포구 is done\n",
      "서대문구 is done\n",
      "서초구 is done\n",
      "성동구 is done\n",
      "성북구 is done\n",
      "송파구 is done\n",
      "양천구 is done\n",
      "영등포구 is done\n",
      "용산구 is done\n",
      "은평구 is done\n",
      "종로구 is done\n",
      "중구 is done\n",
      "중랑구 is done\n"
     ]
    }
   ],
   "source": [
    "gn = gdf[gdf['SIG_KOR_NM'] == '강남구'].geometry\n",
    "gn_polygons = [grs80_to_wgs84(x, y) for x, y in gn.iloc[0].exterior.coords]\n",
    "print('강남구 is done')\n",
    "\n",
    "gd = gdf[gdf['SIG_KOR_NM'] == '강동구'].geometry\n",
    "gd_polygons = [grs80_to_wgs84(x, y) for x, y in gd.iloc[0].exterior.coords]\n",
    "print('강동구 is done')\n",
    "\n",
    "gb = gdf[gdf['SIG_KOR_NM'] == '강북구'].geometry\n",
    "gb_polygons = [grs80_to_wgs84(x, y) for x, y in gb.iloc[0].exterior.coords]\n",
    "print('강북구 is done')\n",
    "\n",
    "# gs = gdf[gdf['SIG_KOR_NM'] == '강서구'].geometry\n",
    "# gs_polygons = [grs80_to_wgs84(x, y) for x, y in gs.iloc[0].exterior.coords]\n",
    "# print('강서구 is done')\n",
    "\n",
    "ga = gdf[gdf['SIG_KOR_NM'] == '관악구'].geometry\n",
    "ga_polygons = [grs80_to_wgs84(x, y) for x, y in ga.iloc[0].exterior.coords]\n",
    "print('관악구 is done')\n",
    "\n",
    "gj = gdf[gdf['SIG_KOR_NM'] == '광진구'].geometry\n",
    "gj_polygons = [grs80_to_wgs84(x, y) for x, y in gj.iloc[0].exterior.coords]\n",
    "print('광진구 is done')\n",
    "\n",
    "gr = gdf[gdf['SIG_KOR_NM'] == '구로구'].geometry\n",
    "gr_polygons = [grs80_to_wgs84(x, y) for x, y in gr.iloc[0].exterior.coords]\n",
    "print('구로구 is done')\n",
    "\n",
    "gc = gdf[gdf['SIG_KOR_NM'] == '금천구'].geometry\n",
    "gc_polygons = [grs80_to_wgs84(x, y) for x, y in gc.iloc[0].exterior.coords]\n",
    "print('금천구 is done')\n",
    "\n",
    "nw = gdf[gdf['SIG_KOR_NM'] == '노원구'].geometry\n",
    "nw_polygons = [grs80_to_wgs84(x, y) for x, y in nw.iloc[0].exterior.coords]\n",
    "print('노원구 is done')\n",
    "\n",
    "db = gdf[gdf['SIG_KOR_NM'] == '도봉구'].geometry\n",
    "db_polygons = [grs80_to_wgs84(x, y) for x, y in db.iloc[0].exterior.coords]\n",
    "print('도봉구 is done')\n",
    "\n",
    "dd = gdf[gdf['SIG_KOR_NM'] == '동대문구'].geometry\n",
    "dd_polygons = [grs80_to_wgs84(x, y) for x, y in dd.iloc[0].exterior.coords]\n",
    "print('동대문구 is done')\n",
    "\n",
    "dj = gdf[gdf['SIG_KOR_NM'] == '동작구'].geometry\n",
    "dj_polygons = [grs80_to_wgs84(x, y) for x, y in dj.iloc[0].exterior.coords]\n",
    "print('동작구 is done')\n",
    "\n",
    "mp = gdf[gdf['SIG_KOR_NM'] == '마포구'].geometry\n",
    "mp_polygons = [grs80_to_wgs84(x, y) for x, y in mp.iloc[0].exterior.coords]\n",
    "print('마포구 is done')\n",
    "\n",
    "sd = gdf[gdf['SIG_KOR_NM'] == '서대문구'].geometry\n",
    "sd_polygons = [grs80_to_wgs84(x, y) for x, y in sd.iloc[0].exterior.coords]\n",
    "print('서대문구 is done')\n",
    "\n",
    "sc = gdf[gdf['SIG_KOR_NM'] == '서초구'].geometry\n",
    "sc_polygons = [grs80_to_wgs84(x, y) for x, y in sc.iloc[0].exterior.coords]\n",
    "print('서초구 is done')\n",
    "\n",
    "sd = gdf[gdf['SIG_KOR_NM'] == '성동구'].geometry\n",
    "sd_polygons = [grs80_to_wgs84(x, y) for x, y in sd.iloc[0].exterior.coords]\n",
    "print('성동구 is done')\n",
    "\n",
    "sb = gdf[gdf['SIG_KOR_NM'] == '성북구'].geometry\n",
    "sb_polygons = [grs80_to_wgs84(x, y) for x, y in sb.iloc[0].exterior.coords]\n",
    "print('성북구 is done')\n",
    "\n",
    "sp = gdf[gdf['SIG_KOR_NM'] == '송파구'].geometry\n",
    "sp_polygons = [grs80_to_wgs84(x, y) for x, y in sp.iloc[0].exterior.coords]\n",
    "print('송파구 is done')\n",
    "\n",
    "yc = gdf[gdf['SIG_KOR_NM'] == '양천구'].geometry\n",
    "yc_polygons = [grs80_to_wgs84(x, y) for x, y in yc.iloc[0].exterior.coords]\n",
    "print('양천구 is done')\n",
    "\n",
    "yd = gdf[gdf['SIG_KOR_NM'] == '영등포구'].geometry\n",
    "yd_polygons = [grs80_to_wgs84(x, y) for x, y in yd.iloc[0].exterior.coords]\n",
    "print('영등포구 is done')\n",
    "\n",
    "ys = gdf[gdf['SIG_KOR_NM'] == '용산구'].geometry\n",
    "ys_polygons = [grs80_to_wgs84(x, y) for x, y in ys.iloc[0].exterior.coords]\n",
    "print('용산구 is done')\n",
    "\n",
    "yp = gdf[gdf['SIG_KOR_NM'] == '은평구'].geometry\n",
    "yp_polygons = [grs80_to_wgs84(x, y) for x, y in yp.iloc[0].exterior.coords]\n",
    "print('은평구 is done')\n",
    "\n",
    "jr = gdf[gdf['SIG_KOR_NM'] == '종로구'].geometry\n",
    "jr_polygons = [grs80_to_wgs84(x, y) for x, y in jr.iloc[0].exterior.coords]\n",
    "print('종로구 is done')\n",
    "\n",
    "jg = gdf[gdf['SIG_KOR_NM'] == '중구'].geometry\n",
    "jg_polygons = [grs80_to_wgs84(x, y) for x, y in jg.iloc[0].exterior.coords]\n",
    "print('중구 is done')\n",
    "\n",
    "jl = gdf[gdf['SIG_KOR_NM'] == '중랑구'].geometry\n",
    "jl_polygons = [grs80_to_wgs84(x, y) for x, y in jl.iloc[0].exterior.coords]\n",
    "print('중랑구 is done')"
   ]
  },
  {
   "cell_type": "code",
   "execution_count": 7,
   "metadata": {
    "collapsed": false
   },
   "outputs": [
    {
     "data": {
      "text/plain": [
       "shapely.geometry.polygon.LinearRing"
      ]
     },
     "execution_count": 7,
     "metadata": {},
     "output_type": "execute_result"
    }
   ],
   "source": [
    "type(gn.iloc[0].exterior)"
   ]
  },
  {
   "cell_type": "code",
   "execution_count": 8,
   "metadata": {
    "collapsed": true
   },
   "outputs": [],
   "source": [
    "tileset = 'http://{s}.basemaps.cartocdn.com/light_nolabels/{z}/{x}/{y}.png'\n",
    "\n",
    "map_osm = folium.Map(location=[37.5491,126.98955], tiles=tileset, zoom_start=11, attr='cartocdn')"
   ]
  },
  {
   "cell_type": "code",
   "execution_count": 9,
   "metadata": {
    "collapsed": false
   },
   "outputs": [],
   "source": [
    "map_osm.line(locations=gn_polygons)\n",
    "map_osm.line(locations=gd_polygons)\n",
    "map_osm.line(locations=gb_polygons)\n",
    "# map_osm.line(locations=gs_polygons)\n",
    "map_osm.line(locations=ga_polygons)\n",
    "map_osm.line(locations=gj_polygons)\n",
    "map_osm.line(locations=gr_polygons)\n",
    "map_osm.line(locations=gc_polygons)\n",
    "map_osm.line(locations=nw_polygons)\n",
    "map_osm.line(locations=db_polygons)\n",
    "map_osm.line(locations=dd_polygons)\n",
    "map_osm.line(locations=dj_polygons)\n",
    "map_osm.line(locations=mp_polygons)\n",
    "map_osm.line(locations=sd_polygons)\n",
    "map_osm.line(locations=sc_polygons)\n",
    "map_osm.line(locations=sd_polygons)\n",
    "map_osm.line(locations=sb_polygons)\n",
    "map_osm.line(locations=sp_polygons)\n",
    "map_osm.line(locations=yc_polygons)\n",
    "map_osm.line(locations=yd_polygons)\n",
    "map_osm.line(locations=ys_polygons)\n",
    "map_osm.line(locations=yp_polygons)\n",
    "map_osm.line(locations=jr_polygons)\n",
    "map_osm.line(locations=jg_polygons)\n",
    "map_osm.line(locations=jl_polygons)\n"
   ]
  },
  {
   "cell_type": "code",
   "execution_count": 10,
   "metadata": {
    "collapsed": false,
    "scrolled": false
   },
   "outputs": [
    {
     "data": {
      "text/html": [
       "<iframe src=\"files/map.html\" style=\"width: 100%; height: 510px; border: none\"></iframe>"
      ],
      "text/plain": [
       "<IPython.core.display.HTML object>"
      ]
     },
     "execution_count": 10,
     "metadata": {},
     "output_type": "execute_result"
    }
   ],
   "source": [
    "embed_map(map_osm)"
   ]
  },
  {
   "cell_type": "code",
   "execution_count": null,
   "metadata": {
    "collapsed": true
   },
   "outputs": [],
   "source": []
  },
  {
   "cell_type": "code",
   "execution_count": null,
   "metadata": {
    "collapsed": true
   },
   "outputs": [],
   "source": []
  }
 ],
 "metadata": {
  "kernelspec": {
   "display_name": "Python 3",
   "language": "python",
   "name": "python3"
  },
  "language_info": {
   "codemirror_mode": {
    "name": "ipython",
    "version": 3
   },
   "file_extension": ".py",
   "mimetype": "text/x-python",
   "name": "python",
   "nbconvert_exporter": "python",
   "pygments_lexer": "ipython3",
   "version": "3.5.1"
  }
 },
 "nbformat": 4,
 "nbformat_minor": 0
}
