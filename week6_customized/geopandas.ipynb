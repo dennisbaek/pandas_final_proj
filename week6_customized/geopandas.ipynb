{
 "cells": [
  {
   "cell_type": "markdown",
   "metadata": {},
   "source": [
    "## folium\n",
    "[https://folium.readthedocs.org/en/latest/](https://folium.readthedocs.org/en/latest/)"
   ]
  },
  {
   "cell_type": "code",
   "execution_count": 1,
   "metadata": {
    "collapsed": false
   },
   "outputs": [
    {
     "name": "stdout",
     "output_type": "stream",
     "text": [
      "Populating the interactive namespace from numpy and matplotlib\n"
     ]
    }
   ],
   "source": [
    "%pylab inline\n",
    "\n",
    "import pandas as pd\n",
    "import numpy as np\n",
    "import folium\n",
    "from IPython.display import HTML\n",
    "\n",
    "def inline_map(map):\n",
    "    \"\"\"\n",
    "    Embeds the HTML source of the map directly into the IPython notebook.\n",
    "    \n",
    "    This method will not work if the map depends on any files (json data). Also this uses\n",
    "    the HTML5 srcdoc attribute, which may not be supported in all browsers.\n",
    "    \"\"\"\n",
    "    map._build_map()\n",
    "    return HTML('<iframe srcdoc=\"{srcdoc}\" style=\"width: 100%; height: 510px; border: none\"></iframe>'.format(srcdoc=map.HTML.replace('\"', '&quot;')))\n",
    "\n",
    "def embed_map(map, path=\"map.html\"):\n",
    "    \"\"\"\n",
    "    Embeds a linked iframe to the map into the IPython notebook.\n",
    "    \n",
    "    Note: this method will not capture the source of the map into the notebook.\n",
    "    This method should work for all maps (as long as they use relative urls).\n",
    "    \"\"\"\n",
    "    map.create_map(path=path)\n",
    "    return HTML('<iframe src=\"files/{path}\" style=\"width: 100%; height: 510px; border: none\"></iframe>'.format(path=path))"
   ]
  },
  {
   "cell_type": "code",
   "execution_count": 2,
   "metadata": {
    "collapsed": false
   },
   "outputs": [],
   "source": [
    "import pyproj\n",
    "WGS84 = pyproj.Proj(proj='latlong', datum='WGS84', ellps='WGS84')\n",
    "TM128 = pyproj.Proj(proj='tmerc', lat_0='38N', lon_0='128E', ellps='bessel', x_0='400000', y_0='600000', k='0.9999', towgs84='-146.43,507.89,681.46')\n",
    "GRS80 = pyproj.Proj(proj='tmerc', lat_0='38N', lon_0='127.5E', k='0.9996', x_0='1000000', y_0='2000000', ellps='GRS80', units='m')\n",
    "TM127 = pyproj.Proj(proj='tmerc', lat_0='38N', lon_0='127.0028902777777777776E', ellps='bessel', x_0='200000', y_0='500000', k='1.0', towgs84='-146.43,507.89,681.46')\n",
    "\n",
    "def wgs84_to_tm128(longitude, latitude):\n",
    "    lon, lat = pyproj.transform(WGS84, TM128, longitude, latitude )\n",
    "    return lat, lon\n",
    "\n",
    "def wgs84_to_tm127(longitude, latitude):\n",
    "    lon, lat = map(lambda x:2.5*x,\n",
    "        pyproj.transform(WGS84, TM127, longitude, latitude ))\n",
    "    return lat, lon\n",
    "\n",
    "def tm127_to_wgs84(x, y):\n",
    "    lon, lat = pyproj.transform(TM127, WGS84, x/2.5, y/2.5 )\n",
    "    return lat, lon\n",
    "\n",
    "# UTM-K\n",
    "def grs80_to_wgs84(x, y):\n",
    "    lon, lat = pyproj.transform(GRS80, WGS84, x, y )\n",
    "    return lat, lon\n",
    "\n",
    "# Naver (카텍)\n",
    "def tm128_to_wgs84(x, y):\n",
    "    lon, lat = pyproj.transform(TM128, WGS84, x, y)\n",
    "    return lat, lon\n"
   ]
  },
  {
   "cell_type": "markdown",
   "metadata": {},
   "source": [
    "## geopandas\n",
    "[http://geopandas.org/](http://geopandas.org/)\n",
    "\n",
    "### 설치\n",
    "기본적인 가이드는 아래 링크를 참조합니다.\n",
    "http://geoffboeing.com/2014/09/using-geopandas-windows/\n",
    "\n",
    "위 가이드에서는 다음과 같은 순서로 설치할 것을 권장합니다.\n",
    "먼저 아래 링크에서 pyproj, GDAL, Fiona, Shapely 패키지를 찾아서 다운 받습니다.\n",
    "http://www.lfd.uci.edu/~gohlke/pythonlibs/\n",
    "\n",
    "패키지 파일 이름은 패키지명-cp파이썬버전-os_bit.whl\n",
    "ex) pyproj‑1.9.4‑cp34‑none‑win_amd64.whl\n",
    "파이썬 버전은 IPython이나 IPython notebook에서 (왜냐하면 IPython에서 사용할거니까요)\n",
    "\n",
    "```\n",
    "import sys\n",
    "sys.version\n",
    "```\n",
    "을 실행해서 확인합니다.\n",
    "\n",
    "위 4가지 패키지 (.whl 파일)를 적절한 곳에 다운로드 받은 다음 cmd (명령행 프롬프트)를 이용해서 전체 파일이름을 주어 설치합니다.\n",
    "\n",
    "```\n",
    "C:\\> dir 다운받은경로\n",
    "pip install pyproj‑1.9.4‑cp34‑none‑win_amd64.whl\n",
    "```\n",
    "같은 방식으로 GDAL, Fiona, Shapely를 순서대로 설치합니다.\n",
    "\n",
    "모두 설치가 성공적으로 끝나면 pip install geopandas를 실행해서 geopandas를 설치합니다.\n",
    "\n",
    "제대로 설치되었는지 확인은:\n",
    "```\n",
    "import geopandas as gp\n",
    "gp.version.version\n",
    "```\n",
    "을 실행해서 설치된 버전이 제대로 출력되면 성공입니다.\n",
    "\n",
    "\n",
    "http://www.gisdeveloper.co.kr/entry/%EC%B5%9C%EC%8B%A0%EC%8B%A0-%ED%96%89%EC%A0%95%EA%B5%AC%EC%97%AD%EB%8F%84-%EB%8B%A4%EC%9A%B4%EB%A1%9C%EB%93%9C"
   ]
  },
  {
   "cell_type": "code",
   "execution_count": 3,
   "metadata": {
    "collapsed": false,
    "scrolled": true
   },
   "outputs": [],
   "source": [
    "import geopandas as gp\n",
    "gdf = gp.GeoDataFrame.from_file('kor_shp.shp', encoding='euc-kr')"
   ]
  },
  {
   "cell_type": "code",
   "execution_count": 14,
   "metadata": {
    "collapsed": false
   },
   "outputs": [
    {
     "data": {
      "text/html": [
       "<div>\n",
       "<table border=\"1\" class=\"dataframe\">\n",
       "  <thead>\n",
       "    <tr style=\"text-align: right;\">\n",
       "      <th></th>\n",
       "      <th>SIG_CD</th>\n",
       "      <th>SIG_KOR_NM</th>\n",
       "      <th>geometry</th>\n",
       "    </tr>\n",
       "  </thead>\n",
       "  <tbody>\n",
       "    <tr>\n",
       "      <th>0</th>\n",
       "      <td>42150</td>\n",
       "      <td>강릉시</td>\n",
       "      <td>(POLYGON ((1136545.803493503 1962251.161124158...</td>\n",
       "    </tr>\n",
       "    <tr>\n",
       "      <th>1</th>\n",
       "      <td>42170</td>\n",
       "      <td>동해시</td>\n",
       "      <td>POLYGON ((1139403.867164297 1956878.265323564,...</td>\n",
       "    </tr>\n",
       "    <tr>\n",
       "      <th>2</th>\n",
       "      <td>42820</td>\n",
       "      <td>고성군</td>\n",
       "      <td>(POLYGON ((1091705.056122308 2034023.202820232...</td>\n",
       "    </tr>\n",
       "    <tr>\n",
       "      <th>3</th>\n",
       "      <td>42720</td>\n",
       "      <td>홍천군</td>\n",
       "      <td>POLYGON ((1046324.014620971 1994003.079201841,...</td>\n",
       "    </tr>\n",
       "    <tr>\n",
       "      <th>4</th>\n",
       "      <td>42110</td>\n",
       "      <td>춘천시</td>\n",
       "      <td>POLYGON ((1007462.095373648 2008948.792123738,...</td>\n",
       "    </tr>\n",
       "  </tbody>\n",
       "</table>\n",
       "</div>"
      ],
      "text/plain": [
       "  SIG_CD SIG_KOR_NM                                           geometry\n",
       "0  42150        강릉시  (POLYGON ((1136545.803493503 1962251.161124158...\n",
       "1  42170        동해시  POLYGON ((1139403.867164297 1956878.265323564,...\n",
       "2  42820        고성군  (POLYGON ((1091705.056122308 2034023.202820232...\n",
       "3  42720        홍천군  POLYGON ((1046324.014620971 1994003.079201841,...\n",
       "4  42110        춘천시  POLYGON ((1007462.095373648 2008948.792123738,..."
      ]
     },
     "execution_count": 14,
     "metadata": {},
     "output_type": "execute_result"
    }
   ],
   "source": [
    "gdf.head()"
   ]
  },
  {
   "cell_type": "code",
   "execution_count": 16,
   "metadata": {
    "collapsed": false
   },
   "outputs": [
    {
     "data": {
      "text/plain": [
       "'강서구'"
      ]
     },
     "execution_count": 16,
     "metadata": {},
     "output_type": "execute_result"
    }
   ],
   "source": [
    "seoul_gu_list =['강남구', '강동구', '강북구', '강서구', '관악구', '광진구',\n",
    "'구로구', '금천구', '노원구', '도봉구', '동대문구', '동작구', '마포구', '서대문구',\n",
    "'서초구', '성동구', '성북구', '송파구', '양천구', '영등포구', '용산구', '은평구',\n",
    "'종로구', '중구', '중랑구']\n",
    "# seoul_gu_list[3]"
   ]
  },
  {
   "cell_type": "code",
   "execution_count": 73,
   "metadata": {
    "collapsed": false
   },
   "outputs": [],
   "source": [
    "def make_seoul_guname_index_dict():\n",
    "    l_KOR = list(gdf.SIG_KOR_NM.values)\n",
    "    l_idx = 0\n",
    "    seoul_gu_dic = {}\n",
    "    for seoul_gu in seoul_gu_list:\n",
    "        for kor_gu in list_KOR:\n",
    "            if seoul_gu == kor_gu:\n",
    "                seoul_gu_dic[kor_gu] = list_KOR.index(kor_gu)\n",
    "    return seoul_gu_dic"
   ]
  },
  {
   "cell_type": "code",
   "execution_count": 101,
   "metadata": {
    "collapsed": false
   },
   "outputs": [],
   "source": [
    "dic = make_seoul_guname_index_dict()\n",
    "index_l = []\n",
    "for i in dic.values():\n",
    "    index_l.append(i)\n"
   ]
  },
  {
   "cell_type": "code",
   "execution_count": 105,
   "metadata": {
    "collapsed": false
   },
   "outputs": [],
   "source": [
    "def get_geometry_poly_to_list(index_list):\n",
    "    geom_list = []\n",
    "    for i in index_list:\n",
    "        geom_list.append(gdf.geometry[i])\n",
    "    return geom_list"
   ]
  },
  {
   "cell_type": "code",
   "execution_count": 111,
   "metadata": {
    "collapsed": false
   },
   "outputs": [
    {
     "data": {
      "text/plain": [
       "{'강남구': 150,\n",
       " '강동구': 145,\n",
       " '강북구': 166,\n",
       " '강서구': 141,\n",
       " '관악구': 165,\n",
       " '광진구': 153,\n",
       " '구로구': 158,\n",
       " '금천구': 147,\n",
       " '노원구': 162,\n",
       " '도봉구': 146,\n",
       " '동대문구': 157,\n",
       " '동작구': 143,\n",
       " '마포구': 152,\n",
       " '서대문구': 155,\n",
       " '서초구': 156,\n",
       " '성동구': 142,\n",
       " '성북구': 163,\n",
       " '송파구': 160,\n",
       " '양천구': 161,\n",
       " '영등포구': 151,\n",
       " '용산구': 144,\n",
       " '은평구': 148,\n",
       " '종로구': 159,\n",
       " '중구': 114,\n",
       " '중랑구': 149}"
      ]
     },
     "execution_count": 111,
     "metadata": {},
     "output_type": "execute_result"
    }
   ],
   "source": [
    "# print(get_geometry_poly_to_list(index_l)[10])\n"
   ]
  },
  {
   "cell_type": "code",
   "execution_count": 112,
   "metadata": {
    "collapsed": false
   },
   "outputs": [
    {
     "ename": "AttributeError",
     "evalue": "'MultiPolygon' object has no attribute 'exterior'",
     "output_type": "error",
     "traceback": [
      "\u001b[0;31m---------------------------------------------------------------------------\u001b[0m",
      "\u001b[0;31mAttributeError\u001b[0m                            Traceback (most recent call last)",
      "\u001b[0;32m<ipython-input-112-c47c8918b8eb>\u001b[0m in \u001b[0;36m<module>\u001b[0;34m()\u001b[0m\n\u001b[1;32m      2\u001b[0m \u001b[0mtype\u001b[0m\u001b[0;34m(\u001b[0m\u001b[0mg3\u001b[0m\u001b[0;34m.\u001b[0m\u001b[0miloc\u001b[0m\u001b[0;34m[\u001b[0m\u001b[0;36m0\u001b[0m\u001b[0;34m]\u001b[0m\u001b[0;34m)\u001b[0m\u001b[0;34m\u001b[0m\u001b[0m\n\u001b[1;32m      3\u001b[0m \u001b[0;31m# list(gn.iloc[0].exterior.coords)\u001b[0m\u001b[0;34m\u001b[0m\u001b[0;34m\u001b[0m\u001b[0m\n\u001b[0;32m----> 4\u001b[0;31m \u001b[0mg3_polygons\u001b[0m \u001b[0;34m=\u001b[0m \u001b[0;34m[\u001b[0m\u001b[0mgrs80_to_wgs84\u001b[0m\u001b[0;34m(\u001b[0m\u001b[0mx\u001b[0m\u001b[0;34m,\u001b[0m \u001b[0my\u001b[0m\u001b[0;34m)\u001b[0m \u001b[0;32mfor\u001b[0m \u001b[0mx\u001b[0m\u001b[0;34m,\u001b[0m \u001b[0my\u001b[0m \u001b[0;32min\u001b[0m \u001b[0mg3\u001b[0m\u001b[0;34m.\u001b[0m\u001b[0miloc\u001b[0m\u001b[0;34m[\u001b[0m\u001b[0;36m0\u001b[0m\u001b[0;34m]\u001b[0m\u001b[0;34m.\u001b[0m\u001b[0mexterior\u001b[0m\u001b[0;34m.\u001b[0m\u001b[0mcoords\u001b[0m\u001b[0;34m]\u001b[0m\u001b[0;34m\u001b[0m\u001b[0m\n\u001b[0m",
      "\u001b[0;31mAttributeError\u001b[0m: 'MultiPolygon' object has no attribute 'exterior'"
     ]
    }
   ],
   "source": [
    "g3 = gdf[gdf['SIG_KOR_NM'] == '강서구'].geometry\n",
    "type(g3.iloc[0])\n",
    "# list(gn.iloc[0].exterior.coords)\n",
    "g3_polygons = [grs80_to_wgs84(x, y) for x, y in g3.iloc[0].exterior.coords]"
   ]
  },
  {
   "cell_type": "code",
   "execution_count": null,
   "metadata": {
    "collapsed": false
   },
   "outputs": [],
   "source": [
    "gn.iloc[0].exterior"
   ]
  },
  {
   "cell_type": "code",
   "execution_count": null,
   "metadata": {
    "collapsed": false,
    "scrolled": false
   },
   "outputs": [],
   "source": [
    "gw = gdf[gdf['SIG_KOR_NM'] == '관악구'].geometry\n",
    "gw_polygons = [grs80_to_wgs84(x, y) for x, y in gw.iloc[0].exterior.coords]\n",
    "tileset = 'http://{s}.basemaps.cartocdn.com/light_nolabels/{z}/{x}/{y}.png'\n",
    "\n",
    "map_osm = folium.Map(location=[37.5491,126.98955], tiles=tileset, zoom_start=11, attr='cartocdn')\n",
    "map_osm.line(locations=gn_polygons)\n",
    "map_osm.line(locations=gw_polygons)\n",
    "\n",
    "embed_map(map_osm)"
   ]
  },
  {
   "cell_type": "code",
   "execution_count": null,
   "metadata": {
    "collapsed": true
   },
   "outputs": [],
   "source": []
  },
  {
   "cell_type": "code",
   "execution_count": null,
   "metadata": {
    "collapsed": true
   },
   "outputs": [],
   "source": []
  }
 ],
 "metadata": {
  "kernelspec": {
   "display_name": "Python 3",
   "language": "python",
   "name": "python3"
  },
  "language_info": {
   "codemirror_mode": {
    "name": "ipython",
    "version": 3
   },
   "file_extension": ".py",
   "mimetype": "text/x-python",
   "name": "python",
   "nbconvert_exporter": "python",
   "pygments_lexer": "ipython3",
   "version": "3.5.1"
  }
 },
 "nbformat": 4,
 "nbformat_minor": 0
}
