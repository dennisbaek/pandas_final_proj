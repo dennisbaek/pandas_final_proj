{
 "cells": [
  {
   "cell_type": "markdown",
   "metadata": {},
   "source": [
    "# 색\n",
    "\n",
    "* 색상 = 색조(Hue), 채도(Saturation), 명도(Value)\n",
    "* CMYK - Cyan, Magenta, Yellow, Black\n",
    "<img src=\"files/150px-SubtractiveColor.svg.png\">\n",
    "\n",
    "* RGB - Red, Green, Black\n",
    "<img src=\"files/220px-AdditiveColor.svg.png\">\n",
    "\n",
    "* Hex - RGB(255, 0, 0), #FF0000, #F00\n",
    "\n",
    "* 기본 색상과 3~5가지 색조만 사용. 주의가 분산되는 것을 막고 통일된 느낌을 주도록 한다.\n",
    "* 척도의 중앙에서 옅은 색과 짙은 색이 번갈아 나오지 않도록 한다.\n",
    "* 특정 테마를 연상시키는 색상은 피한다.\n",
    "* 양수를 표현할 때 빨간색은 손실을 연상시킨다.\n",
    "* 색상으로 분위기를 좌우한다.\n",
    "* 색맹을 위한 색상 선택.\n",
    "* 출력물을 고려. (명도의 차이를 크게)\n",
    "\n",
    "\n",
    "http://colorbrewer2.org/"
   ]
  },
  {
   "cell_type": "markdown",
   "metadata": {},
   "source": [
    "# 글꼴\n",
    "\n",
    "*가독성*, *가독성*, *가독성*\n",
    "\n",
    "* 볼드체, 이탤릭체는 요점을 강조할 때만 사용 (동시에 적용하거나 과하게 사용하지 말 것)\n",
    "* 지나치게 화려한 글꼴 사용을 피한다.\n",
    "* 데이터를 압도하는 타이포는 피한다.\n",
    "* 이름을 과하게 줄이거나 공간 절약을 위해 회전시키지 않는다.\n",
    "* 가능하다면 글꼴은 검은색으로"
   ]
  },
  {
   "cell_type": "markdown",
   "metadata": {},
   "source": [
    "# 선\n",
    "\n",
    "* 기울기가 평평하면 메시지가 드러나지 않고 너무 과장하면 메시지도 과장된다.\n",
    "* 선이 너무 가늘면 가독성이 떨어지고 굵으면 세세한 정보가 묻힌다.\n",
    "* 가능하다면 기준선을 드러내자\n",
    "* 너무 컬러풀한 선 그래프는 가독성을 해친다.\n",
    "* 과도한 스타일 역시 가독성을 해친다.\n",
    "* 차트 하나에 선은 4개 이하로 제한하자.\n",
    "* 범례가 선에서 너무 멀어지지 않도록 하자\n",
    "* 두 개 이상의 선 그래프를 나란히 배치할 때는 Y축의 값을 통일하자."
   ]
  },
  {
   "cell_type": "markdown",
   "metadata": {},
   "source": [
    "# 수직 막대\n",
    "\n",
    "* 3D 효과는 가독성을 해친다.\n",
    "* 색과 음영은 가급적 통일한다.\n",
    "* 막대 그래프는 잘라내지 않는다. (예외. 특이값 표현이 메시지의 핵심인 경우)\n",
    "\n",
    "# 다중 막대\n",
    "* 짙은 색과 옅은 색을 번갈아 배치하지 않는다.\n",
    "* 범례의 순서와 차트의 색을 통일한다.\n",
    "* 옅은 색에서 짙은 색 순으로 배치한다.\n",
    "\n",
    "# 수평 막대\n",
    "* 수평 막대는 임의로 배치하지 않고 순서대로 나열한다.\n",
    "* 양방향 수평 막대는 가급적 피한다. (대칭성이 무너졌음을 보일때만 유효하다)\n",
    "* 왼쪽은 음수, 오른쪽은 양수"
   ]
  },
  {
   "cell_type": "markdown",
   "metadata": {},
   "source": [
    "# 파이 차트\n",
    "* 12시 방향에 크기가 적은 파이가 위치하지 않도록 한다.\n",
    "* 12시 기준으로 가장 큰 파이가 위에 위치하도록 한다.\n",
    "* 현란한 색상과 음영은 피한다.\n",
    "* 기울이거나, 3D 효과, 따로 떼어 놓는 것은 피한다.\n",
    "* 파이 크기로 비교를 할 때는 반지름이 아니라 면적을 비율로 계산한다."
   ]
  },
  {
   "cell_type": "markdown",
   "metadata": {},
   "source": [
    "# 읽을거리\n",
    "\n",
    "* https://datavisualization.ch/\n",
    "* http://keshif.me/"
   ]
  },
  {
   "cell_type": "code",
   "execution_count": null,
   "metadata": {
    "collapsed": true
   },
   "outputs": [],
   "source": []
  }
 ],
 "metadata": {
  "kernelspec": {
   "display_name": "Python 3",
   "language": "python",
   "name": "python3"
  },
  "language_info": {
   "codemirror_mode": {
    "name": "ipython",
    "version": 3
   },
   "file_extension": ".py",
   "mimetype": "text/x-python",
   "name": "python",
   "nbconvert_exporter": "python",
   "pygments_lexer": "ipython3",
   "version": "3.5.1"
  }
 },
 "nbformat": 4,
 "nbformat_minor": 0
}
