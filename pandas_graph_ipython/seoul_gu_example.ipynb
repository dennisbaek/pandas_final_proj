{
 "cells": [
  {
   "cell_type": "code",
   "execution_count": 1,
   "metadata": {
    "collapsed": false
   },
   "outputs": [],
   "source": [
    "import pandas as pd\n",
    "import numpy as np"
   ]
  },
  {
   "cell_type": "code",
   "execution_count": 2,
   "metadata": {
    "collapsed": false
   },
   "outputs": [],
   "source": [
    "df_origin = pd.read_csv(\"seoul_cir.csv\")"
   ]
  },
  {
   "cell_type": "code",
   "execution_count": 3,
   "metadata": {
    "collapsed": false
   },
   "outputs": [
    {
     "data": {
      "text/html": [
       "<div>\n",
       "<table border=\"1\" class=\"dataframe\">\n",
       "  <thead>\n",
       "    <tr style=\"text-align: right;\">\n",
       "      <th></th>\n",
       "      <th>﻿\"관측일자\"</th>\n",
       "      <th>지점명</th>\n",
       "      <th>평균기온(℃)</th>\n",
       "      <th>최저기온(℃)</th>\n",
       "      <th>최대기온(℃)</th>\n",
       "      <th>평균습도(%)</th>\n",
       "      <th>최저습도(%)</th>\n",
       "      <th>최고습도(%)</th>\n",
       "      <th>평균풍속(m/s)</th>\n",
       "      <th>최대풍속(m/s)</th>\n",
       "      <th>강수량(mm)</th>\n",
       "    </tr>\n",
       "  </thead>\n",
       "  <tbody>\n",
       "    <tr>\n",
       "      <th>1</th>\n",
       "      <td>20160127</td>\n",
       "      <td>남산</td>\n",
       "      <td>-0.10000000149011612</td>\n",
       "      <td>-3.4000000953674316</td>\n",
       "      <td>3.2000000476837158</td>\n",
       "      <td>49.299999237060547</td>\n",
       "      <td>26.399999618530273</td>\n",
       "      <td>71.900001525878906</td>\n",
       "      <td>1</td>\n",
       "      <td>4.5999999046325684</td>\n",
       "      <td>0</td>\n",
       "    </tr>\n",
       "    <tr>\n",
       "      <th>2</th>\n",
       "      <td>20160127</td>\n",
       "      <td>강서</td>\n",
       "      <td>0</td>\n",
       "      <td>-3.7999999523162842</td>\n",
       "      <td>3.5999999046325684</td>\n",
       "      <td>62.099998474121094</td>\n",
       "      <td>43.400001525878906</td>\n",
       "      <td>73.900001525878906</td>\n",
       "      <td>1.1000000238418579</td>\n",
       "      <td>4.0999999046325684</td>\n",
       "      <td>0</td>\n",
       "    </tr>\n",
       "    <tr>\n",
       "      <th>3</th>\n",
       "      <td>20160127</td>\n",
       "      <td>성북</td>\n",
       "      <td>0.20000000298023224</td>\n",
       "      <td>-3.0999999046325684</td>\n",
       "      <td>3.9000000953674316</td>\n",
       "      <td>56.200000762939453</td>\n",
       "      <td>39.900001525878906</td>\n",
       "      <td>65.800003051757812</td>\n",
       "      <td>1.1000000238418579</td>\n",
       "      <td>5.1999998092651367</td>\n",
       "      <td>0</td>\n",
       "    </tr>\n",
       "    <tr>\n",
       "      <th>4</th>\n",
       "      <td>20160127</td>\n",
       "      <td>도봉</td>\n",
       "      <td>-0.40000000596046448</td>\n",
       "      <td>-4.8000001907348633</td>\n",
       "      <td>4.0999999046325684</td>\n",
       "      <td>56.799999237060547</td>\n",
       "      <td>37</td>\n",
       "      <td>75.5</td>\n",
       "      <td>0.89999997615814209</td>\n",
       "      <td>3.7000000476837158</td>\n",
       "      <td>0</td>\n",
       "    </tr>\n",
       "    <tr>\n",
       "      <th>5</th>\n",
       "      <td>20160127</td>\n",
       "      <td>마포</td>\n",
       "      <td>-0.30000001192092896</td>\n",
       "      <td>-4</td>\n",
       "      <td>3.7999999523162842</td>\n",
       "      <td>61.099998474121094</td>\n",
       "      <td>41.799999237060547</td>\n",
       "      <td>74.300003051757812</td>\n",
       "      <td>0.89999997615814209</td>\n",
       "      <td>4.6999998092651367</td>\n",
       "      <td>0</td>\n",
       "    </tr>\n",
       "  </tbody>\n",
       "</table>\n",
       "</div>"
      ],
      "text/plain": [
       "    ﻿\"관측일자\" 지점명               평균기온(℃)              최저기온(℃)  \\\n",
       "1  20160127  남산  -0.10000000149011612  -3.4000000953674316   \n",
       "2  20160127  강서                     0  -3.7999999523162842   \n",
       "3  20160127  성북   0.20000000298023224  -3.0999999046325684   \n",
       "4  20160127  도봉  -0.40000000596046448  -4.8000001907348633   \n",
       "5  20160127  마포  -0.30000001192092896                   -4   \n",
       "\n",
       "              최대기온(℃)             평균습도(%)             최저습도(%)  \\\n",
       "1  3.2000000476837158  49.299999237060547  26.399999618530273   \n",
       "2  3.5999999046325684  62.099998474121094  43.400001525878906   \n",
       "3  3.9000000953674316  56.200000762939453  39.900001525878906   \n",
       "4  4.0999999046325684  56.799999237060547                  37   \n",
       "5  3.7999999523162842  61.099998474121094  41.799999237060547   \n",
       "\n",
       "              최고습도(%)            평균풍속(m/s)           최대풍속(m/s) 강수량(mm)  \n",
       "1  71.900001525878906                    1  4.5999999046325684       0  \n",
       "2  73.900001525878906   1.1000000238418579  4.0999999046325684       0  \n",
       "3  65.800003051757812   1.1000000238418579  5.1999998092651367       0  \n",
       "4                75.5  0.89999997615814209  3.7000000476837158       0  \n",
       "5  74.300003051757812  0.89999997615814209  4.6999998092651367       0  "
      ]
     },
     "execution_count": 3,
     "metadata": {},
     "output_type": "execute_result"
    }
   ],
   "source": [
    "df = df_origin.ix[1:]\n",
    "df.head()"
   ]
  },
  {
   "cell_type": "code",
   "execution_count": 4,
   "metadata": {
    "collapsed": false
   },
   "outputs": [
    {
     "data": {
      "text/html": [
       "<div>\n",
       "<table border=\"1\" class=\"dataframe\">\n",
       "  <thead>\n",
       "    <tr style=\"text-align: right;\">\n",
       "      <th></th>\n",
       "      <th>date</th>\n",
       "      <th>place</th>\n",
       "      <th>avg_temp</th>\n",
       "      <th>l_temp</th>\n",
       "      <th>h_temp</th>\n",
       "      <th>avg_hum</th>\n",
       "      <th>l_hum</th>\n",
       "      <th>h_hum</th>\n",
       "      <th>avg_wind</th>\n",
       "      <th>h_wind</th>\n",
       "      <th>rain</th>\n",
       "    </tr>\n",
       "  </thead>\n",
       "  <tbody>\n",
       "    <tr>\n",
       "      <th>1</th>\n",
       "      <td>20160127</td>\n",
       "      <td>남산</td>\n",
       "      <td>-0.10000000149011612</td>\n",
       "      <td>-3.4000000953674316</td>\n",
       "      <td>3.2000000476837158</td>\n",
       "      <td>49.299999237060547</td>\n",
       "      <td>26.399999618530273</td>\n",
       "      <td>71.900001525878906</td>\n",
       "      <td>1</td>\n",
       "      <td>4.5999999046325684</td>\n",
       "      <td>0</td>\n",
       "    </tr>\n",
       "    <tr>\n",
       "      <th>2</th>\n",
       "      <td>20160127</td>\n",
       "      <td>강서</td>\n",
       "      <td>0</td>\n",
       "      <td>-3.7999999523162842</td>\n",
       "      <td>3.5999999046325684</td>\n",
       "      <td>62.099998474121094</td>\n",
       "      <td>43.400001525878906</td>\n",
       "      <td>73.900001525878906</td>\n",
       "      <td>1.1000000238418579</td>\n",
       "      <td>4.0999999046325684</td>\n",
       "      <td>0</td>\n",
       "    </tr>\n",
       "    <tr>\n",
       "      <th>3</th>\n",
       "      <td>20160127</td>\n",
       "      <td>성북</td>\n",
       "      <td>0.20000000298023224</td>\n",
       "      <td>-3.0999999046325684</td>\n",
       "      <td>3.9000000953674316</td>\n",
       "      <td>56.200000762939453</td>\n",
       "      <td>39.900001525878906</td>\n",
       "      <td>65.800003051757812</td>\n",
       "      <td>1.1000000238418579</td>\n",
       "      <td>5.1999998092651367</td>\n",
       "      <td>0</td>\n",
       "    </tr>\n",
       "    <tr>\n",
       "      <th>4</th>\n",
       "      <td>20160127</td>\n",
       "      <td>도봉</td>\n",
       "      <td>-0.40000000596046448</td>\n",
       "      <td>-4.8000001907348633</td>\n",
       "      <td>4.0999999046325684</td>\n",
       "      <td>56.799999237060547</td>\n",
       "      <td>37</td>\n",
       "      <td>75.5</td>\n",
       "      <td>0.89999997615814209</td>\n",
       "      <td>3.7000000476837158</td>\n",
       "      <td>0</td>\n",
       "    </tr>\n",
       "    <tr>\n",
       "      <th>5</th>\n",
       "      <td>20160127</td>\n",
       "      <td>마포</td>\n",
       "      <td>-0.30000001192092896</td>\n",
       "      <td>-4</td>\n",
       "      <td>3.7999999523162842</td>\n",
       "      <td>61.099998474121094</td>\n",
       "      <td>41.799999237060547</td>\n",
       "      <td>74.300003051757812</td>\n",
       "      <td>0.89999997615814209</td>\n",
       "      <td>4.6999998092651367</td>\n",
       "      <td>0</td>\n",
       "    </tr>\n",
       "  </tbody>\n",
       "</table>\n",
       "</div>"
      ],
      "text/plain": [
       "       date place              avg_temp               l_temp  \\\n",
       "1  20160127    남산  -0.10000000149011612  -3.4000000953674316   \n",
       "2  20160127    강서                     0  -3.7999999523162842   \n",
       "3  20160127    성북   0.20000000298023224  -3.0999999046325684   \n",
       "4  20160127    도봉  -0.40000000596046448  -4.8000001907348633   \n",
       "5  20160127    마포  -0.30000001192092896                   -4   \n",
       "\n",
       "               h_temp             avg_hum               l_hum  \\\n",
       "1  3.2000000476837158  49.299999237060547  26.399999618530273   \n",
       "2  3.5999999046325684  62.099998474121094  43.400001525878906   \n",
       "3  3.9000000953674316  56.200000762939453  39.900001525878906   \n",
       "4  4.0999999046325684  56.799999237060547                  37   \n",
       "5  3.7999999523162842  61.099998474121094  41.799999237060547   \n",
       "\n",
       "                h_hum             avg_wind              h_wind rain  \n",
       "1  71.900001525878906                    1  4.5999999046325684    0  \n",
       "2  73.900001525878906   1.1000000238418579  4.0999999046325684    0  \n",
       "3  65.800003051757812   1.1000000238418579  5.1999998092651367    0  \n",
       "4                75.5  0.89999997615814209  3.7000000476837158    0  \n",
       "5  74.300003051757812  0.89999997615814209  4.6999998092651367    0  "
      ]
     },
     "execution_count": 4,
     "metadata": {},
     "output_type": "execute_result"
    }
   ],
   "source": [
    "df.columns = ['date','place', 'avg_temp', 'l_temp','h_temp','avg_hum','l_hum','h_hum','avg_wind','h_wind','rain']\n",
    "df.head()"
   ]
  },
  {
   "cell_type": "code",
   "execution_count": 5,
   "metadata": {
    "collapsed": false
   },
   "outputs": [],
   "source": [
    "seoul_gu_list =['강남구', '강동구', '강북구', '강서구', '관악구', '광진구',\n",
    "'구로구', '금천구', '노원구', '도봉구', '동대문구', '동작구', '마포구', '서대문구',\n",
    "'서초구', '성동구', '성북구', '송파구', '양천구', '영등포구', '용산구', '은평구',\n",
    "'종로구', '중구구', '중랑구']\n"
   ]
  },
  {
   "cell_type": "code",
   "execution_count": 6,
   "metadata": {
    "collapsed": false
   },
   "outputs": [
    {
     "data": {
      "text/plain": [
       "['강남',\n",
       " '강동',\n",
       " '강북',\n",
       " '강서',\n",
       " '관악',\n",
       " '광진',\n",
       " '구로',\n",
       " '금천',\n",
       " '노원',\n",
       " '도봉',\n",
       " '동대문',\n",
       " '동작',\n",
       " '마포',\n",
       " '서대문',\n",
       " '서초',\n",
       " '성동',\n",
       " '성북',\n",
       " '송파',\n",
       " '양천',\n",
       " '영등포',\n",
       " '용산',\n",
       " '은평',\n",
       " '종로',\n",
       " '중구',\n",
       " '중랑']"
      ]
     },
     "execution_count": 6,
     "metadata": {},
     "output_type": "execute_result"
    }
   ],
   "source": [
    "seoul_list = []\n",
    "for i in seoul_gu_list:\n",
    "    ii = i[:-1]\n",
    "    seoul_list.append(ii)\n",
    "seoul_list"
   ]
  },
  {
   "cell_type": "code",
   "execution_count": 7,
   "metadata": {
    "collapsed": false
   },
   "outputs": [],
   "source": [
    "# seoul_dict = {'강남':'df_gn',\n",
    "#  '강동':'df_gd',\n",
    "#  '강북':'df_gb',\n",
    "#  '강서':'df_gs',\n",
    "#  '관악':'df_ga',\n",
    "#  '광진':'df_gj',\n",
    "#  '구로':'df_gr',\n",
    "#  '금천':'df_gc',\n",
    "#  '노원':'df_nw',\n",
    "#  '도봉':'df_db',\n",
    "#  '동대문':'df_ddm',\n",
    "#  '동작':'df_dj',\n",
    "#  '마포':'df_mp',\n",
    "#  '서대문':'df_sdm',\n",
    "#  '서초':'df_sc',\n",
    "#  '성동':'df_sd',\n",
    "#  '성북':'df_sb',\n",
    "#  '송파':'df_sp',\n",
    "#  '양천':'df_yc',\n",
    "#  '영등포':'df_ydp',\n",
    "#  '용산':'df_ys',\n",
    "#  '은평':'df_yp',\n",
    "#  '종로':'df_jr',\n",
    "#  '중구':'df_jg',\n",
    "#  '중랑':'df_jl'}"
   ]
  },
  {
   "cell_type": "code",
   "execution_count": 8,
   "metadata": {
    "collapsed": true
   },
   "outputs": [],
   "source": [
    "#make initial df as dictionary\n",
    "seoul_df_dict = {'강남':pd.DataFrame(list(df.ix[3]), index=df.columns),\n",
    " '강동':pd.DataFrame(list(df.ix[3]), index=df.columns),\n",
    " '강북':pd.DataFrame(list(df.ix[3]), index=df.columns),\n",
    " '강서':pd.DataFrame(list(df.ix[3]), index=df.columns),\n",
    " '관악':pd.DataFrame(list(df.ix[3]), index=df.columns),\n",
    " '광진':pd.DataFrame(list(df.ix[3]), index=df.columns),\n",
    " '구로':pd.DataFrame(list(df.ix[3]), index=df.columns),\n",
    " '금천':pd.DataFrame(list(df.ix[3]), index=df.columns),\n",
    " '노원':pd.DataFrame(list(df.ix[3]), index=df.columns),\n",
    " '도봉':pd.DataFrame(list(df.ix[3]), index=df.columns),\n",
    " '동대문':pd.DataFrame(list(df.ix[3]), index=df.columns),\n",
    " '동작':pd.DataFrame(list(df.ix[3]), index=df.columns),\n",
    " '마포':pd.DataFrame(list(df.ix[3]), index=df.columns),\n",
    " '서대문':pd.DataFrame(list(df.ix[3]), index=df.columns),\n",
    " '서초':pd.DataFrame(list(df.ix[3]), index=df.columns),\n",
    " '성동':pd.DataFrame(list(df.ix[3]), index=df.columns),\n",
    " '성북':pd.DataFrame(list(df.ix[3]), index=df.columns),\n",
    " '송파':pd.DataFrame(list(df.ix[3]), index=df.columns),\n",
    " '양천':pd.DataFrame(list(df.ix[3]), index=df.columns),\n",
    " '영등포':pd.DataFrame(list(df.ix[3]), index=df.columns),\n",
    " '용산':pd.DataFrame(list(df.ix[3]), index=df.columns),\n",
    " '은평':pd.DataFrame(list(df.ix[3]), index=df.columns),\n",
    " '종로':pd.DataFrame(list(df.ix[3]), index=df.columns),\n",
    " '중구':pd.DataFrame(list(df.ix[3]), index=df.columns),\n",
    " '중랑':pd.DataFrame(list(df.ix[3]), index=df.columns)}"
   ]
  },
  {
   "cell_type": "code",
   "execution_count": 9,
   "metadata": {
    "collapsed": false
   },
   "outputs": [
    {
     "data": {
      "text/html": [
       "<div>\n",
       "<table border=\"1\" class=\"dataframe\">\n",
       "  <thead>\n",
       "    <tr style=\"text-align: right;\">\n",
       "      <th></th>\n",
       "      <th>date</th>\n",
       "      <th>place</th>\n",
       "      <th>avg_temp</th>\n",
       "      <th>l_temp</th>\n",
       "      <th>h_temp</th>\n",
       "      <th>avg_hum</th>\n",
       "      <th>l_hum</th>\n",
       "      <th>h_hum</th>\n",
       "      <th>avg_wind</th>\n",
       "      <th>h_wind</th>\n",
       "      <th>rain</th>\n",
       "    </tr>\n",
       "  </thead>\n",
       "  <tbody>\n",
       "    <tr>\n",
       "      <th>0</th>\n",
       "      <td>20160127</td>\n",
       "      <td>성북</td>\n",
       "      <td>0.20000000298023224</td>\n",
       "      <td>-3.0999999046325684</td>\n",
       "      <td>3.9000000953674316</td>\n",
       "      <td>56.200000762939453</td>\n",
       "      <td>39.900001525878906</td>\n",
       "      <td>65.800003051757812</td>\n",
       "      <td>1.1000000238418579</td>\n",
       "      <td>5.1999998092651367</td>\n",
       "      <td>0</td>\n",
       "    </tr>\n",
       "  </tbody>\n",
       "</table>\n",
       "</div>"
      ],
      "text/plain": [
       "       date place             avg_temp               l_temp  \\\n",
       "0  20160127    성북  0.20000000298023224  -3.0999999046325684   \n",
       "\n",
       "               h_temp             avg_hum               l_hum  \\\n",
       "0  3.9000000953674316  56.200000762939453  39.900001525878906   \n",
       "\n",
       "                h_hum            avg_wind              h_wind rain  \n",
       "0  65.800003051757812  1.1000000238418579  5.1999998092651367    0  "
      ]
     },
     "execution_count": 9,
     "metadata": {},
     "output_type": "execute_result"
    }
   ],
   "source": [
    "#transpose all df in seoul_df_dict\n",
    "for i in seoul_list:\n",
    "    seoul_df_dict[i] = seoul_df_dict[i].T\n",
    "seoul_df_dict['종로']"
   ]
  },
  {
   "cell_type": "code",
   "execution_count": null,
   "metadata": {
    "collapsed": true
   },
   "outputs": [],
   "source": []
  },
  {
   "cell_type": "code",
   "execution_count": null,
   "metadata": {
    "collapsed": false
   },
   "outputs": [],
   "source": []
  },
  {
   "cell_type": "code",
   "execution_count": null,
   "metadata": {
    "collapsed": false
   },
   "outputs": [],
   "source": [
    "for i in seoul_list:\n",
    "    seoul_df_dict[i] = seoul_df_dict[i].append(df[df.place == i])\n",
    "    seoul_df_dict[i].ix[]\n"
   ]
  },
  {
   "cell_type": "code",
   "execution_count": null,
   "metadata": {
    "collapsed": false
   },
   "outputs": [],
   "source": []
  },
  {
   "cell_type": "code",
   "execution_count": null,
   "metadata": {
    "collapsed": true
   },
   "outputs": [],
   "source": []
  }
 ],
 "metadata": {
  "kernelspec": {
   "display_name": "Python 3",
   "language": "python",
   "name": "python3"
  },
  "language_info": {
   "codemirror_mode": {
    "name": "ipython",
    "version": 3
   },
   "file_extension": ".py",
   "mimetype": "text/x-python",
   "name": "python",
   "nbconvert_exporter": "python",
   "pygments_lexer": "ipython3",
   "version": "3.5.1"
  }
 },
 "nbformat": 4,
 "nbformat_minor": 0
}
