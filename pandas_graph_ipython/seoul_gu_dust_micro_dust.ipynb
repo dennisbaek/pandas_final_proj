{
 "cells": [
  {
   "cell_type": "code",
   "execution_count": 8,
   "metadata": {
    "collapsed": true
   },
   "outputs": [],
   "source": [
    "import pandas as pd\n",
    "import numpy as np\n"
   ]
  },
  {
   "cell_type": "code",
   "execution_count": 9,
   "metadata": {
    "collapsed": false
   },
   "outputs": [],
   "source": [
    "df = pd.read_excel('dust_data.xlsx')"
   ]
  },
  {
   "cell_type": "code",
   "execution_count": 10,
   "metadata": {
    "collapsed": false
   },
   "outputs": [
    {
     "data": {
      "text/html": [
       "<div>\n",
       "<table border=\"1\" class=\"dataframe\">\n",
       "  <thead>\n",
       "    <tr style=\"text-align: right;\">\n",
       "      <th></th>\n",
       "      <th>구분</th>\n",
       "      <th>미세먼지</th>\n",
       "      <th>초미세먼지</th>\n",
       "      <th>오존</th>\n",
       "      <th>이산화질소</th>\n",
       "      <th>일산화탄소</th>\n",
       "      <th>아황산가스</th>\n",
       "    </tr>\n",
       "  </thead>\n",
       "  <tbody>\n",
       "    <tr>\n",
       "      <th>1</th>\n",
       "      <td>종로구</td>\n",
       "      <td>45</td>\n",
       "      <td>23</td>\n",
       "      <td>0.022</td>\n",
       "      <td>0.034</td>\n",
       "      <td>0.4</td>\n",
       "      <td>0.006</td>\n",
       "    </tr>\n",
       "    <tr>\n",
       "      <th>2</th>\n",
       "      <td>중구구</td>\n",
       "      <td>46</td>\n",
       "      <td>21</td>\n",
       "      <td>0.022</td>\n",
       "      <td>0.037</td>\n",
       "      <td>0.5</td>\n",
       "      <td>0.006</td>\n",
       "    </tr>\n",
       "    <tr>\n",
       "      <th>3</th>\n",
       "      <td>용산구</td>\n",
       "      <td>45</td>\n",
       "      <td>23</td>\n",
       "      <td>0.021</td>\n",
       "      <td>0.035</td>\n",
       "      <td>0.5</td>\n",
       "      <td>0.006</td>\n",
       "    </tr>\n",
       "    <tr>\n",
       "      <th>4</th>\n",
       "      <td>성동구</td>\n",
       "      <td>47</td>\n",
       "      <td>24</td>\n",
       "      <td>0.019</td>\n",
       "      <td>0.039</td>\n",
       "      <td>0.4</td>\n",
       "      <td>0.005</td>\n",
       "    </tr>\n",
       "    <tr>\n",
       "      <th>5</th>\n",
       "      <td>광진구</td>\n",
       "      <td>50</td>\n",
       "      <td>23</td>\n",
       "      <td>0.027</td>\n",
       "      <td>0.028</td>\n",
       "      <td>0.6</td>\n",
       "      <td>0.005</td>\n",
       "    </tr>\n",
       "  </tbody>\n",
       "</table>\n",
       "</div>"
      ],
      "text/plain": [
       "    구분  미세먼지  초미세먼지     오존  이산화질소  일산화탄소  아황산가스\n",
       "1  종로구    45     23  0.022  0.034    0.4  0.006\n",
       "2  중구구    46     21  0.022  0.037    0.5  0.006\n",
       "3  용산구    45     23  0.021  0.035    0.5  0.006\n",
       "4  성동구    47     24  0.019  0.039    0.4  0.005\n",
       "5  광진구    50     23  0.027  0.028    0.6  0.005"
      ]
     },
     "execution_count": 10,
     "metadata": {},
     "output_type": "execute_result"
    }
   ],
   "source": [
    "df = df.ix[1:]\n",
    "df.head()"
   ]
  },
  {
   "cell_type": "code",
   "execution_count": 11,
   "metadata": {
    "collapsed": true
   },
   "outputs": [],
   "source": [
    "df.columns = ['gu_list', 'dust', 'micro_dust', 'oz', 'NO2', 'CO','SO3']"
   ]
  },
  {
   "cell_type": "code",
   "execution_count": 16,
   "metadata": {
    "collapsed": false
   },
   "outputs": [],
   "source": [
    "gu_list = list(df.gu_list)\n",
    "gu_name = []"
   ]
  },
  {
   "cell_type": "code",
   "execution_count": 17,
   "metadata": {
    "collapsed": false,
    "scrolled": true
   },
   "outputs": [
    {
     "data": {
      "text/html": [
       "<div>\n",
       "<table border=\"1\" class=\"dataframe\">\n",
       "  <thead>\n",
       "    <tr style=\"text-align: right;\">\n",
       "      <th></th>\n",
       "      <th>gu_list</th>\n",
       "      <th>dust</th>\n",
       "      <th>micro_dust</th>\n",
       "      <th>oz</th>\n",
       "      <th>NO2</th>\n",
       "      <th>CO</th>\n",
       "      <th>SO3</th>\n",
       "    </tr>\n",
       "  </thead>\n",
       "  <tbody>\n",
       "    <tr>\n",
       "      <th>1</th>\n",
       "      <td>종로구</td>\n",
       "      <td>45</td>\n",
       "      <td>23</td>\n",
       "      <td>0.022</td>\n",
       "      <td>0.034</td>\n",
       "      <td>0.4</td>\n",
       "      <td>0.006</td>\n",
       "    </tr>\n",
       "    <tr>\n",
       "      <th>2</th>\n",
       "      <td>중구구</td>\n",
       "      <td>46</td>\n",
       "      <td>21</td>\n",
       "      <td>0.022</td>\n",
       "      <td>0.037</td>\n",
       "      <td>0.5</td>\n",
       "      <td>0.006</td>\n",
       "    </tr>\n",
       "    <tr>\n",
       "      <th>3</th>\n",
       "      <td>용산구</td>\n",
       "      <td>45</td>\n",
       "      <td>23</td>\n",
       "      <td>0.021</td>\n",
       "      <td>0.035</td>\n",
       "      <td>0.5</td>\n",
       "      <td>0.006</td>\n",
       "    </tr>\n",
       "    <tr>\n",
       "      <th>4</th>\n",
       "      <td>성동구</td>\n",
       "      <td>47</td>\n",
       "      <td>24</td>\n",
       "      <td>0.019</td>\n",
       "      <td>0.039</td>\n",
       "      <td>0.4</td>\n",
       "      <td>0.005</td>\n",
       "    </tr>\n",
       "    <tr>\n",
       "      <th>5</th>\n",
       "      <td>광진구</td>\n",
       "      <td>50</td>\n",
       "      <td>23</td>\n",
       "      <td>0.027</td>\n",
       "      <td>0.028</td>\n",
       "      <td>0.6</td>\n",
       "      <td>0.005</td>\n",
       "    </tr>\n",
       "  </tbody>\n",
       "</table>\n",
       "</div>"
      ],
      "text/plain": [
       "  gu_list  dust  micro_dust     oz    NO2   CO    SO3\n",
       "1     종로구    45          23  0.022  0.034  0.4  0.006\n",
       "2     중구구    46          21  0.022  0.037  0.5  0.006\n",
       "3     용산구    45          23  0.021  0.035  0.5  0.006\n",
       "4     성동구    47          24  0.019  0.039  0.4  0.005\n",
       "5     광진구    50          23  0.027  0.028  0.6  0.005"
      ]
     },
     "execution_count": 17,
     "metadata": {},
     "output_type": "execute_result"
    }
   ],
   "source": [
    "df.head()"
   ]
  },
  {
   "cell_type": "code",
   "execution_count": 18,
   "metadata": {
    "collapsed": false
   },
   "outputs": [
    {
     "data": {
      "text/plain": [
       "['종로',\n",
       " '중구',\n",
       " '용산',\n",
       " '성동',\n",
       " '광진',\n",
       " '동대문',\n",
       " '중랑',\n",
       " '성북',\n",
       " '강북',\n",
       " '도봉',\n",
       " '노원',\n",
       " '은평',\n",
       " '서대문',\n",
       " '마포',\n",
       " '양천',\n",
       " '강서',\n",
       " '구로',\n",
       " '금천',\n",
       " '영등포',\n",
       " '동작',\n",
       " '관악',\n",
       " '서초',\n",
       " '강남',\n",
       " '송파',\n",
       " '강동']"
      ]
     },
     "execution_count": 18,
     "metadata": {},
     "output_type": "execute_result"
    }
   ],
   "source": [
    "for i in gu_list:\n",
    "    ii = i[:-1]\n",
    "    gu_name.append(ii)\n"
   ]
  },
  {
   "cell_type": "code",
   "execution_count": 19,
   "metadata": {
    "collapsed": true
   },
   "outputs": [],
   "source": [
    "df['gu_name'] = gu_name"
   ]
  },
  {
   "cell_type": "code",
   "execution_count": 20,
   "metadata": {
    "collapsed": false
   },
   "outputs": [
    {
     "data": {
      "text/html": [
       "<div>\n",
       "<table border=\"1\" class=\"dataframe\">\n",
       "  <thead>\n",
       "    <tr style=\"text-align: right;\">\n",
       "      <th></th>\n",
       "      <th>gu_list</th>\n",
       "      <th>dust</th>\n",
       "      <th>micro_dust</th>\n",
       "      <th>oz</th>\n",
       "      <th>NO2</th>\n",
       "      <th>CO</th>\n",
       "      <th>SO3</th>\n",
       "      <th>gu_name</th>\n",
       "    </tr>\n",
       "  </thead>\n",
       "  <tbody>\n",
       "    <tr>\n",
       "      <th>1</th>\n",
       "      <td>종로구</td>\n",
       "      <td>45</td>\n",
       "      <td>23</td>\n",
       "      <td>0.022</td>\n",
       "      <td>0.034</td>\n",
       "      <td>0.4</td>\n",
       "      <td>0.006</td>\n",
       "      <td>종로</td>\n",
       "    </tr>\n",
       "    <tr>\n",
       "      <th>2</th>\n",
       "      <td>중구구</td>\n",
       "      <td>46</td>\n",
       "      <td>21</td>\n",
       "      <td>0.022</td>\n",
       "      <td>0.037</td>\n",
       "      <td>0.5</td>\n",
       "      <td>0.006</td>\n",
       "      <td>중구</td>\n",
       "    </tr>\n",
       "    <tr>\n",
       "      <th>3</th>\n",
       "      <td>용산구</td>\n",
       "      <td>45</td>\n",
       "      <td>23</td>\n",
       "      <td>0.021</td>\n",
       "      <td>0.035</td>\n",
       "      <td>0.5</td>\n",
       "      <td>0.006</td>\n",
       "      <td>용산</td>\n",
       "    </tr>\n",
       "    <tr>\n",
       "      <th>4</th>\n",
       "      <td>성동구</td>\n",
       "      <td>47</td>\n",
       "      <td>24</td>\n",
       "      <td>0.019</td>\n",
       "      <td>0.039</td>\n",
       "      <td>0.4</td>\n",
       "      <td>0.005</td>\n",
       "      <td>성동</td>\n",
       "    </tr>\n",
       "    <tr>\n",
       "      <th>5</th>\n",
       "      <td>광진구</td>\n",
       "      <td>50</td>\n",
       "      <td>23</td>\n",
       "      <td>0.027</td>\n",
       "      <td>0.028</td>\n",
       "      <td>0.6</td>\n",
       "      <td>0.005</td>\n",
       "      <td>광진</td>\n",
       "    </tr>\n",
       "  </tbody>\n",
       "</table>\n",
       "</div>"
      ],
      "text/plain": [
       "  gu_list  dust  micro_dust     oz    NO2   CO    SO3 gu_name\n",
       "1     종로구    45          23  0.022  0.034  0.4  0.006      종로\n",
       "2     중구구    46          21  0.022  0.037  0.5  0.006      중구\n",
       "3     용산구    45          23  0.021  0.035  0.5  0.006      용산\n",
       "4     성동구    47          24  0.019  0.039  0.4  0.005      성동\n",
       "5     광진구    50          23  0.027  0.028  0.6  0.005      광진"
      ]
     },
     "execution_count": 20,
     "metadata": {},
     "output_type": "execute_result"
    }
   ],
   "source": [
    "df.head()"
   ]
  },
  {
   "cell_type": "code",
   "execution_count": 21,
   "metadata": {
    "collapsed": false
   },
   "outputs": [
    {
     "data": {
      "text/html": [
       "<div>\n",
       "<table border=\"1\" class=\"dataframe\">\n",
       "  <thead>\n",
       "    <tr style=\"text-align: right;\">\n",
       "      <th></th>\n",
       "      <th>dust</th>\n",
       "      <th>micro_dust</th>\n",
       "      <th>oz</th>\n",
       "      <th>NO2</th>\n",
       "      <th>CO</th>\n",
       "      <th>SO3</th>\n",
       "      <th>gu_name</th>\n",
       "    </tr>\n",
       "  </thead>\n",
       "  <tbody>\n",
       "    <tr>\n",
       "      <th>1</th>\n",
       "      <td>45</td>\n",
       "      <td>23</td>\n",
       "      <td>0.022</td>\n",
       "      <td>0.034</td>\n",
       "      <td>0.4</td>\n",
       "      <td>0.006</td>\n",
       "      <td>종로</td>\n",
       "    </tr>\n",
       "    <tr>\n",
       "      <th>2</th>\n",
       "      <td>46</td>\n",
       "      <td>21</td>\n",
       "      <td>0.022</td>\n",
       "      <td>0.037</td>\n",
       "      <td>0.5</td>\n",
       "      <td>0.006</td>\n",
       "      <td>중구</td>\n",
       "    </tr>\n",
       "    <tr>\n",
       "      <th>3</th>\n",
       "      <td>45</td>\n",
       "      <td>23</td>\n",
       "      <td>0.021</td>\n",
       "      <td>0.035</td>\n",
       "      <td>0.5</td>\n",
       "      <td>0.006</td>\n",
       "      <td>용산</td>\n",
       "    </tr>\n",
       "    <tr>\n",
       "      <th>4</th>\n",
       "      <td>47</td>\n",
       "      <td>24</td>\n",
       "      <td>0.019</td>\n",
       "      <td>0.039</td>\n",
       "      <td>0.4</td>\n",
       "      <td>0.005</td>\n",
       "      <td>성동</td>\n",
       "    </tr>\n",
       "    <tr>\n",
       "      <th>5</th>\n",
       "      <td>50</td>\n",
       "      <td>23</td>\n",
       "      <td>0.027</td>\n",
       "      <td>0.028</td>\n",
       "      <td>0.6</td>\n",
       "      <td>0.005</td>\n",
       "      <td>광진</td>\n",
       "    </tr>\n",
       "  </tbody>\n",
       "</table>\n",
       "</div>"
      ],
      "text/plain": [
       "   dust  micro_dust     oz    NO2   CO    SO3 gu_name\n",
       "1    45          23  0.022  0.034  0.4  0.006      종로\n",
       "2    46          21  0.022  0.037  0.5  0.006      중구\n",
       "3    45          23  0.021  0.035  0.5  0.006      용산\n",
       "4    47          24  0.019  0.039  0.4  0.005      성동\n",
       "5    50          23  0.027  0.028  0.6  0.005      광진"
      ]
     },
     "execution_count": 21,
     "metadata": {},
     "output_type": "execute_result"
    }
   ],
   "source": [
    "del(df['gu_list'])\n",
    "df.head()"
   ]
  },
  {
   "cell_type": "code",
   "execution_count": 22,
   "metadata": {
    "collapsed": true
   },
   "outputs": [],
   "source": [
    "df.to_csv('seoul_dust.csv')"
   ]
  },
  {
   "cell_type": "code",
   "execution_count": 23,
   "metadata": {
    "collapsed": false
   },
   "outputs": [
    {
     "data": {
      "text/plain": [
       "(array([], dtype=int64),)"
      ]
     },
     "execution_count": 23,
     "metadata": {},
     "output_type": "execute_result"
    }
   ],
   "source": [
    "pd.isnull(df).any(1).nonzero()"
   ]
  },
  {
   "cell_type": "code",
   "execution_count": null,
   "metadata": {
    "collapsed": true
   },
   "outputs": [],
   "source": []
  }
 ],
 "metadata": {
  "kernelspec": {
   "display_name": "Python 3",
   "language": "python",
   "name": "python3"
  },
  "language_info": {
   "codemirror_mode": {
    "name": "ipython",
    "version": 3
   },
   "file_extension": ".py",
   "mimetype": "text/x-python",
   "name": "python",
   "nbconvert_exporter": "python",
   "pygments_lexer": "ipython3",
   "version": "3.5.1"
  }
 },
 "nbformat": 4,
 "nbformat_minor": 0
}
